{
 "cells": [
  {
   "attachments": {},
   "cell_type": "markdown",
   "metadata": {},
   "source": [
    "### Modelling\n",
    "Проведем минимальную работы по конструированию признаков, затем скалируем, полученные результаты, и построим пару моделей классификации."
   ]
  },
  {
   "cell_type": "code",
   "execution_count": 43,
   "metadata": {},
   "outputs": [],
   "source": [
    "import numpy as np\n",
    "import pandas as pd\n",
    "\n",
    "import matplotlib.pyplot as plt\n",
    "import seaborn as sns\n",
    "from scipy import stats\n",
    "\n",
    "from sklearn import preprocessing\n",
    "from sklearn.preprocessing import MinMaxScaler\n",
    "from sklearn.pipeline import Pipeline\n",
    "from sklearn.ensemble import RandomForestClassifier\n",
    "from sklearn.linear_model import LogisticRegression\n",
    "from sklearn.naive_bayes import MultinomialNB\n",
    "from sklearn.model_selection import train_test_split, GridSearchCV\n",
    "from sklearn import metrics"
   ]
  },
  {
   "cell_type": "code",
   "execution_count": 44,
   "metadata": {},
   "outputs": [
    {
     "name": "stdout",
     "output_type": "stream",
     "text": [
      "<class 'pandas.core.frame.DataFrame'>\n",
      "RangeIndex: 5907 entries, 0 to 5906\n",
      "Data columns (total 14 columns):\n",
      " #   Column                Non-Null Count  Dtype  \n",
      "---  ------                --------------  -----  \n",
      " 0   Unnamed: 0            5907 non-null   int64  \n",
      " 1   type                  5907 non-null   object \n",
      " 2   fixed acidity         5907 non-null   float64\n",
      " 3   volatile acidity      5907 non-null   float64\n",
      " 4   citric acid           5907 non-null   float64\n",
      " 5   residual sugar        5907 non-null   float64\n",
      " 6   chlorides             5907 non-null   float64\n",
      " 7   free sulfur dioxide   5907 non-null   float64\n",
      " 8   total sulfur dioxide  5907 non-null   float64\n",
      " 9   density               5907 non-null   float64\n",
      " 10  pH                    5907 non-null   float64\n",
      " 11  sulphates             5907 non-null   float64\n",
      " 12  alcohol               5907 non-null   float64\n",
      " 13  quality               5907 non-null   int64  \n",
      "dtypes: float64(11), int64(2), object(1)\n",
      "memory usage: 646.2+ KB\n"
     ]
    }
   ],
   "source": [
    "df = pd.read_csv('https://raw.githubusercontent.com/MelnikDM/Netology/main/CRISP_DM/WIne_Quality/data/processed/Wine_qual_EDA.csv', sep=\",\")\n",
    "df.info()"
   ]
  },
  {
   "cell_type": "code",
   "execution_count": 45,
   "metadata": {},
   "outputs": [],
   "source": [
    "df = df.drop(['Unnamed: 0'], axis = 1)"
   ]
  },
  {
   "cell_type": "code",
   "execution_count": 46,
   "metadata": {},
   "outputs": [
    {
     "data": {
      "text/html": [
       "<div>\n",
       "<style scoped>\n",
       "    .dataframe tbody tr th:only-of-type {\n",
       "        vertical-align: middle;\n",
       "    }\n",
       "\n",
       "    .dataframe tbody tr th {\n",
       "        vertical-align: top;\n",
       "    }\n",
       "\n",
       "    .dataframe thead th {\n",
       "        text-align: right;\n",
       "    }\n",
       "</style>\n",
       "<table border=\"1\" class=\"dataframe\">\n",
       "  <thead>\n",
       "    <tr style=\"text-align: right;\">\n",
       "      <th></th>\n",
       "      <th>quality</th>\n",
       "    </tr>\n",
       "  </thead>\n",
       "  <tbody>\n",
       "    <tr>\n",
       "      <th>6</th>\n",
       "      <td>2586</td>\n",
       "    </tr>\n",
       "    <tr>\n",
       "      <th>5</th>\n",
       "      <td>1924</td>\n",
       "    </tr>\n",
       "    <tr>\n",
       "      <th>7</th>\n",
       "      <td>1015</td>\n",
       "    </tr>\n",
       "    <tr>\n",
       "      <th>8</th>\n",
       "      <td>181</td>\n",
       "    </tr>\n",
       "    <tr>\n",
       "      <th>4</th>\n",
       "      <td>181</td>\n",
       "    </tr>\n",
       "    <tr>\n",
       "      <th>3</th>\n",
       "      <td>15</td>\n",
       "    </tr>\n",
       "    <tr>\n",
       "      <th>9</th>\n",
       "      <td>5</td>\n",
       "    </tr>\n",
       "  </tbody>\n",
       "</table>\n",
       "</div>"
      ],
      "text/plain": [
       "   quality\n",
       "6     2586\n",
       "5     1924\n",
       "7     1015\n",
       "8      181\n",
       "4      181\n",
       "3       15\n",
       "9        5"
      ]
     },
     "execution_count": 46,
     "metadata": {},
     "output_type": "execute_result"
    }
   ],
   "source": [
    "df.quality.value_counts().to_frame()"
   ]
  },
  {
   "attachments": {},
   "cell_type": "markdown",
   "metadata": {},
   "source": [
    "Мы будем решать задачу классификации по оценке качества вина. Для этого нам необходимо разделить \"качество\" на 2 группы: вина, которые получили оцеку меньше 6 мы условно обозначим 0, а остальные - 1."
   ]
  },
  {
   "cell_type": "code",
   "execution_count": 47,
   "metadata": {},
   "outputs": [],
   "source": [
    "def quality_class(x):\n",
    "\tif x['quality'] >= 6:\n",
    "\t\tres = 1\n",
    "\telse:\n",
    "\t\tres = 0\n",
    "\treturn res\n",
    "\n",
    "df['quality_rate'] = df.apply(quality_class, axis=1)"
   ]
  },
  {
   "cell_type": "code",
   "execution_count": 48,
   "metadata": {},
   "outputs": [
    {
     "data": {
      "text/html": [
       "<div>\n",
       "<style scoped>\n",
       "    .dataframe tbody tr th:only-of-type {\n",
       "        vertical-align: middle;\n",
       "    }\n",
       "\n",
       "    .dataframe tbody tr th {\n",
       "        vertical-align: top;\n",
       "    }\n",
       "\n",
       "    .dataframe thead th {\n",
       "        text-align: right;\n",
       "    }\n",
       "</style>\n",
       "<table border=\"1\" class=\"dataframe\">\n",
       "  <thead>\n",
       "    <tr style=\"text-align: right;\">\n",
       "      <th></th>\n",
       "      <th>quality_rate</th>\n",
       "    </tr>\n",
       "  </thead>\n",
       "  <tbody>\n",
       "    <tr>\n",
       "      <th>1</th>\n",
       "      <td>3787</td>\n",
       "    </tr>\n",
       "    <tr>\n",
       "      <th>0</th>\n",
       "      <td>2120</td>\n",
       "    </tr>\n",
       "  </tbody>\n",
       "</table>\n",
       "</div>"
      ],
      "text/plain": [
       "   quality_rate\n",
       "1          3787\n",
       "0          2120"
      ]
     },
     "execution_count": 48,
     "metadata": {},
     "output_type": "execute_result"
    }
   ],
   "source": [
    "df.quality_rate.value_counts().to_frame()"
   ]
  },
  {
   "attachments": {},
   "cell_type": "markdown",
   "metadata": {},
   "source": [
    "Теперь нормализуем наши нзависимые переменные"
   ]
  },
  {
   "cell_type": "code",
   "execution_count": 49,
   "metadata": {},
   "outputs": [
    {
     "data": {
      "text/html": [
       "<div>\n",
       "<style scoped>\n",
       "    .dataframe tbody tr th:only-of-type {\n",
       "        vertical-align: middle;\n",
       "    }\n",
       "\n",
       "    .dataframe tbody tr th {\n",
       "        vertical-align: top;\n",
       "    }\n",
       "\n",
       "    .dataframe thead th {\n",
       "        text-align: right;\n",
       "    }\n",
       "</style>\n",
       "<table border=\"1\" class=\"dataframe\">\n",
       "  <thead>\n",
       "    <tr style=\"text-align: right;\">\n",
       "      <th></th>\n",
       "      <th>type</th>\n",
       "      <th>fixed acidity</th>\n",
       "      <th>volatile acidity</th>\n",
       "      <th>citric acid</th>\n",
       "      <th>residual sugar</th>\n",
       "      <th>chlorides</th>\n",
       "      <th>free sulfur dioxide</th>\n",
       "      <th>total sulfur dioxide</th>\n",
       "      <th>density</th>\n",
       "      <th>pH</th>\n",
       "      <th>sulphates</th>\n",
       "      <th>alcohol</th>\n",
       "      <th>quality</th>\n",
       "      <th>quality_rate</th>\n",
       "    </tr>\n",
       "  </thead>\n",
       "  <tbody>\n",
       "    <tr>\n",
       "      <th>0</th>\n",
       "      <td>white</td>\n",
       "      <td>0.333333</td>\n",
       "      <td>0.293333</td>\n",
       "      <td>0.465753</td>\n",
       "      <td>0.052910</td>\n",
       "      <td>0.279720</td>\n",
       "      <td>0.158537</td>\n",
       "      <td>0.463235</td>\n",
       "      <td>0.444803</td>\n",
       "      <td>0.597938</td>\n",
       "      <td>0.375000</td>\n",
       "      <td>0.247934</td>\n",
       "      <td>6</td>\n",
       "      <td>1</td>\n",
       "    </tr>\n",
       "    <tr>\n",
       "      <th>1</th>\n",
       "      <td>white</td>\n",
       "      <td>0.583333</td>\n",
       "      <td>0.266667</td>\n",
       "      <td>0.547945</td>\n",
       "      <td>0.333333</td>\n",
       "      <td>0.286713</td>\n",
       "      <td>0.353659</td>\n",
       "      <td>0.334559</td>\n",
       "      <td>0.515817</td>\n",
       "      <td>0.556701</td>\n",
       "      <td>0.305556</td>\n",
       "      <td>0.347107</td>\n",
       "      <td>6</td>\n",
       "      <td>1</td>\n",
       "    </tr>\n",
       "    <tr>\n",
       "      <th>2</th>\n",
       "      <td>white</td>\n",
       "      <td>0.458333</td>\n",
       "      <td>0.200000</td>\n",
       "      <td>0.438356</td>\n",
       "      <td>0.417989</td>\n",
       "      <td>0.342657</td>\n",
       "      <td>0.560976</td>\n",
       "      <td>0.661765</td>\n",
       "      <td>0.548096</td>\n",
       "      <td>0.484536</td>\n",
       "      <td>0.250000</td>\n",
       "      <td>0.314050</td>\n",
       "      <td>6</td>\n",
       "      <td>1</td>\n",
       "    </tr>\n",
       "    <tr>\n",
       "      <th>3</th>\n",
       "      <td>white</td>\n",
       "      <td>0.458333</td>\n",
       "      <td>0.200000</td>\n",
       "      <td>0.438356</td>\n",
       "      <td>0.417989</td>\n",
       "      <td>0.342657</td>\n",
       "      <td>0.560976</td>\n",
       "      <td>0.661765</td>\n",
       "      <td>0.548096</td>\n",
       "      <td>0.484536</td>\n",
       "      <td>0.250000</td>\n",
       "      <td>0.314050</td>\n",
       "      <td>6</td>\n",
       "      <td>1</td>\n",
       "    </tr>\n",
       "    <tr>\n",
       "      <th>4</th>\n",
       "      <td>white</td>\n",
       "      <td>0.583333</td>\n",
       "      <td>0.266667</td>\n",
       "      <td>0.547945</td>\n",
       "      <td>0.333333</td>\n",
       "      <td>0.286713</td>\n",
       "      <td>0.353659</td>\n",
       "      <td>0.334559</td>\n",
       "      <td>0.515817</td>\n",
       "      <td>0.556701</td>\n",
       "      <td>0.305556</td>\n",
       "      <td>0.347107</td>\n",
       "      <td>6</td>\n",
       "      <td>1</td>\n",
       "    </tr>\n",
       "  </tbody>\n",
       "</table>\n",
       "</div>"
      ],
      "text/plain": [
       "    type  fixed acidity  volatile acidity  citric acid  residual sugar  \\\n",
       "0  white       0.333333          0.293333     0.465753        0.052910   \n",
       "1  white       0.583333          0.266667     0.547945        0.333333   \n",
       "2  white       0.458333          0.200000     0.438356        0.417989   \n",
       "3  white       0.458333          0.200000     0.438356        0.417989   \n",
       "4  white       0.583333          0.266667     0.547945        0.333333   \n",
       "\n",
       "   chlorides  free sulfur dioxide  total sulfur dioxide   density        pH  \\\n",
       "0   0.279720             0.158537              0.463235  0.444803  0.597938   \n",
       "1   0.286713             0.353659              0.334559  0.515817  0.556701   \n",
       "2   0.342657             0.560976              0.661765  0.548096  0.484536   \n",
       "3   0.342657             0.560976              0.661765  0.548096  0.484536   \n",
       "4   0.286713             0.353659              0.334559  0.515817  0.556701   \n",
       "\n",
       "   sulphates   alcohol  quality  quality_rate  \n",
       "0   0.375000  0.247934        6             1  \n",
       "1   0.305556  0.347107        6             1  \n",
       "2   0.250000  0.314050        6             1  \n",
       "3   0.250000  0.314050        6             1  \n",
       "4   0.305556  0.347107        6             1  "
      ]
     },
     "execution_count": 49,
     "metadata": {},
     "output_type": "execute_result"
    }
   ],
   "source": [
    "columns_to_normalize = df.drop(['quality', 'type', 'quality_rate'], axis = 1)\n",
    "\n",
    "min_max_scaler = preprocessing.MinMaxScaler()\n",
    "\n",
    "for col in columns_to_normalize:\n",
    "   df[col] = min_max_scaler.fit_transform(df[col].values.reshape(-1, 1) )\n",
    "\n",
    "\n",
    "df.head()"
   ]
  }
 ],
 "metadata": {
  "kernelspec": {
   "display_name": "base",
   "language": "python",
   "name": "python3"
  },
  "language_info": {
   "codemirror_mode": {
    "name": "ipython",
    "version": 3
   },
   "file_extension": ".py",
   "mimetype": "text/x-python",
   "name": "python",
   "nbconvert_exporter": "python",
   "pygments_lexer": "ipython3",
   "version": "3.10.9"
  },
  "orig_nbformat": 4
 },
 "nbformat": 4,
 "nbformat_minor": 2
}
