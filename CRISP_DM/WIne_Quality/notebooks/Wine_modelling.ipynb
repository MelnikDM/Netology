{
 "cells": [
  {
   "cell_type": "markdown",
   "metadata": {},
   "source": [
    "### Modelling\n",
    "Проведем минимальную работу по конструированию признаков, затем скалируем, полученные результаты, и построим пару моделей классификации."
   ]
  },
  {
   "cell_type": "code",
   "execution_count": 18,
   "metadata": {},
   "outputs": [],
   "source": [
    "import numpy as np\n",
    "import pandas as pd\n",
    "\n",
    "import matplotlib.pyplot as plt\n",
    "import seaborn as sns\n",
    "from scipy import stats\n",
    "\n",
    "from sklearn import preprocessing\n",
    "from sklearn.preprocessing import MinMaxScaler\n",
    "from sklearn.pipeline import Pipeline\n",
    "from sklearn.ensemble import RandomForestClassifier\n",
    "from sklearn.linear_model import LogisticRegression\n",
    "from sklearn.naive_bayes import MultinomialNB\n",
    "from sklearn.model_selection import train_test_split, GridSearchCV\n",
    "from sklearn import metrics\n",
    "\n",
    "import warnings\n",
    "warnings.filterwarnings('ignore')"
   ]
  },
  {
   "cell_type": "code",
   "execution_count": 4,
   "metadata": {},
   "outputs": [
    {
     "name": "stdout",
     "output_type": "stream",
     "text": [
      "<class 'pandas.core.frame.DataFrame'>\n",
      "RangeIndex: 5907 entries, 0 to 5906\n",
      "Data columns (total 14 columns):\n",
      " #   Column                Non-Null Count  Dtype  \n",
      "---  ------                --------------  -----  \n",
      " 0   Unnamed: 0            5907 non-null   int64  \n",
      " 1   type                  5907 non-null   object \n",
      " 2   fixed acidity         5907 non-null   float64\n",
      " 3   volatile acidity      5907 non-null   float64\n",
      " 4   citric acid           5907 non-null   float64\n",
      " 5   residual sugar        5907 non-null   float64\n",
      " 6   chlorides             5907 non-null   float64\n",
      " 7   free sulfur dioxide   5907 non-null   float64\n",
      " 8   total sulfur dioxide  5907 non-null   float64\n",
      " 9   density               5907 non-null   float64\n",
      " 10  pH                    5907 non-null   float64\n",
      " 11  sulphates             5907 non-null   float64\n",
      " 12  alcohol               5907 non-null   float64\n",
      " 13  quality               5907 non-null   int64  \n",
      "dtypes: float64(11), int64(2), object(1)\n",
      "memory usage: 646.2+ KB\n"
     ]
    }
   ],
   "source": [
    "df = pd.read_csv('https://raw.githubusercontent.com/MelnikDM/Netology/main/CRISP_DM/WIne_Quality/data/processed/Wine_qual_EDA.csv', sep=\",\")\n",
    "df.info()"
   ]
  },
  {
   "cell_type": "code",
   "execution_count": 5,
   "metadata": {},
   "outputs": [],
   "source": [
    "df = df.drop(['Unnamed: 0'], axis = 1)"
   ]
  },
  {
   "cell_type": "code",
   "execution_count": 6,
   "metadata": {},
   "outputs": [
    {
     "data": {
      "text/html": [
       "<div>\n",
       "<style scoped>\n",
       "    .dataframe tbody tr th:only-of-type {\n",
       "        vertical-align: middle;\n",
       "    }\n",
       "\n",
       "    .dataframe tbody tr th {\n",
       "        vertical-align: top;\n",
       "    }\n",
       "\n",
       "    .dataframe thead th {\n",
       "        text-align: right;\n",
       "    }\n",
       "</style>\n",
       "<table border=\"1\" class=\"dataframe\">\n",
       "  <thead>\n",
       "    <tr style=\"text-align: right;\">\n",
       "      <th></th>\n",
       "      <th>quality</th>\n",
       "    </tr>\n",
       "  </thead>\n",
       "  <tbody>\n",
       "    <tr>\n",
       "      <th>6</th>\n",
       "      <td>2586</td>\n",
       "    </tr>\n",
       "    <tr>\n",
       "      <th>5</th>\n",
       "      <td>1924</td>\n",
       "    </tr>\n",
       "    <tr>\n",
       "      <th>7</th>\n",
       "      <td>1015</td>\n",
       "    </tr>\n",
       "    <tr>\n",
       "      <th>8</th>\n",
       "      <td>181</td>\n",
       "    </tr>\n",
       "    <tr>\n",
       "      <th>4</th>\n",
       "      <td>181</td>\n",
       "    </tr>\n",
       "    <tr>\n",
       "      <th>3</th>\n",
       "      <td>15</td>\n",
       "    </tr>\n",
       "    <tr>\n",
       "      <th>9</th>\n",
       "      <td>5</td>\n",
       "    </tr>\n",
       "  </tbody>\n",
       "</table>\n",
       "</div>"
      ],
      "text/plain": [
       "   quality\n",
       "6     2586\n",
       "5     1924\n",
       "7     1015\n",
       "8      181\n",
       "4      181\n",
       "3       15\n",
       "9        5"
      ]
     },
     "execution_count": 6,
     "metadata": {},
     "output_type": "execute_result"
    }
   ],
   "source": [
    "df.quality.value_counts().to_frame()"
   ]
  },
  {
   "cell_type": "markdown",
   "metadata": {},
   "source": [
    "Мы будем решать задачу классификации по оценке качества вина. Для этого нам необходимо разделить \"качество\" на 2 группы: вина, которые получили оцеку меньше 6 мы условно обозначим 0, а остальные - 1."
   ]
  },
  {
   "cell_type": "code",
   "execution_count": 7,
   "metadata": {},
   "outputs": [],
   "source": [
    "def quality_class(x):\n",
    "    if x['quality'] >= 6:\n",
    "        res = 1\n",
    "    else:\n",
    "        res = 0\n",
    "    return res\n",
    "\n",
    "df['quality_rate'] = df.apply(quality_class, axis=1)"
   ]
  },
  {
   "cell_type": "code",
   "execution_count": 8,
   "metadata": {},
   "outputs": [
    {
     "data": {
      "text/html": [
       "<div>\n",
       "<style scoped>\n",
       "    .dataframe tbody tr th:only-of-type {\n",
       "        vertical-align: middle;\n",
       "    }\n",
       "\n",
       "    .dataframe tbody tr th {\n",
       "        vertical-align: top;\n",
       "    }\n",
       "\n",
       "    .dataframe thead th {\n",
       "        text-align: right;\n",
       "    }\n",
       "</style>\n",
       "<table border=\"1\" class=\"dataframe\">\n",
       "  <thead>\n",
       "    <tr style=\"text-align: right;\">\n",
       "      <th></th>\n",
       "      <th>quality_rate</th>\n",
       "    </tr>\n",
       "  </thead>\n",
       "  <tbody>\n",
       "    <tr>\n",
       "      <th>1</th>\n",
       "      <td>3787</td>\n",
       "    </tr>\n",
       "    <tr>\n",
       "      <th>0</th>\n",
       "      <td>2120</td>\n",
       "    </tr>\n",
       "  </tbody>\n",
       "</table>\n",
       "</div>"
      ],
      "text/plain": [
       "   quality_rate\n",
       "1          3787\n",
       "0          2120"
      ]
     },
     "execution_count": 8,
     "metadata": {},
     "output_type": "execute_result"
    }
   ],
   "source": [
    "df.quality_rate.value_counts().to_frame()"
   ]
  },
  {
   "cell_type": "markdown",
   "metadata": {},
   "source": [
    "Теперь нормализуем наши независимые переменные"
   ]
  },
  {
   "cell_type": "code",
   "execution_count": 9,
   "metadata": {
    "scrolled": false
   },
   "outputs": [
    {
     "data": {
      "text/html": [
       "<div>\n",
       "<style scoped>\n",
       "    .dataframe tbody tr th:only-of-type {\n",
       "        vertical-align: middle;\n",
       "    }\n",
       "\n",
       "    .dataframe tbody tr th {\n",
       "        vertical-align: top;\n",
       "    }\n",
       "\n",
       "    .dataframe thead th {\n",
       "        text-align: right;\n",
       "    }\n",
       "</style>\n",
       "<table border=\"1\" class=\"dataframe\">\n",
       "  <thead>\n",
       "    <tr style=\"text-align: right;\">\n",
       "      <th></th>\n",
       "      <th>type</th>\n",
       "      <th>fixed acidity</th>\n",
       "      <th>volatile acidity</th>\n",
       "      <th>citric acid</th>\n",
       "      <th>residual sugar</th>\n",
       "      <th>chlorides</th>\n",
       "      <th>free sulfur dioxide</th>\n",
       "      <th>total sulfur dioxide</th>\n",
       "      <th>density</th>\n",
       "      <th>pH</th>\n",
       "      <th>sulphates</th>\n",
       "      <th>alcohol</th>\n",
       "      <th>quality</th>\n",
       "      <th>quality_rate</th>\n",
       "    </tr>\n",
       "  </thead>\n",
       "  <tbody>\n",
       "    <tr>\n",
       "      <th>0</th>\n",
       "      <td>white</td>\n",
       "      <td>0.333333</td>\n",
       "      <td>0.293333</td>\n",
       "      <td>0.465753</td>\n",
       "      <td>0.052910</td>\n",
       "      <td>0.279720</td>\n",
       "      <td>0.158537</td>\n",
       "      <td>0.463235</td>\n",
       "      <td>0.444803</td>\n",
       "      <td>0.597938</td>\n",
       "      <td>0.375000</td>\n",
       "      <td>0.247934</td>\n",
       "      <td>6</td>\n",
       "      <td>1</td>\n",
       "    </tr>\n",
       "    <tr>\n",
       "      <th>1</th>\n",
       "      <td>white</td>\n",
       "      <td>0.583333</td>\n",
       "      <td>0.266667</td>\n",
       "      <td>0.547945</td>\n",
       "      <td>0.333333</td>\n",
       "      <td>0.286713</td>\n",
       "      <td>0.353659</td>\n",
       "      <td>0.334559</td>\n",
       "      <td>0.515817</td>\n",
       "      <td>0.556701</td>\n",
       "      <td>0.305556</td>\n",
       "      <td>0.347107</td>\n",
       "      <td>6</td>\n",
       "      <td>1</td>\n",
       "    </tr>\n",
       "    <tr>\n",
       "      <th>2</th>\n",
       "      <td>white</td>\n",
       "      <td>0.458333</td>\n",
       "      <td>0.200000</td>\n",
       "      <td>0.438356</td>\n",
       "      <td>0.417989</td>\n",
       "      <td>0.342657</td>\n",
       "      <td>0.560976</td>\n",
       "      <td>0.661765</td>\n",
       "      <td>0.548096</td>\n",
       "      <td>0.484536</td>\n",
       "      <td>0.250000</td>\n",
       "      <td>0.314050</td>\n",
       "      <td>6</td>\n",
       "      <td>1</td>\n",
       "    </tr>\n",
       "    <tr>\n",
       "      <th>3</th>\n",
       "      <td>white</td>\n",
       "      <td>0.458333</td>\n",
       "      <td>0.200000</td>\n",
       "      <td>0.438356</td>\n",
       "      <td>0.417989</td>\n",
       "      <td>0.342657</td>\n",
       "      <td>0.560976</td>\n",
       "      <td>0.661765</td>\n",
       "      <td>0.548096</td>\n",
       "      <td>0.484536</td>\n",
       "      <td>0.250000</td>\n",
       "      <td>0.314050</td>\n",
       "      <td>6</td>\n",
       "      <td>1</td>\n",
       "    </tr>\n",
       "    <tr>\n",
       "      <th>4</th>\n",
       "      <td>white</td>\n",
       "      <td>0.583333</td>\n",
       "      <td>0.266667</td>\n",
       "      <td>0.547945</td>\n",
       "      <td>0.333333</td>\n",
       "      <td>0.286713</td>\n",
       "      <td>0.353659</td>\n",
       "      <td>0.334559</td>\n",
       "      <td>0.515817</td>\n",
       "      <td>0.556701</td>\n",
       "      <td>0.305556</td>\n",
       "      <td>0.347107</td>\n",
       "      <td>6</td>\n",
       "      <td>1</td>\n",
       "    </tr>\n",
       "  </tbody>\n",
       "</table>\n",
       "</div>"
      ],
      "text/plain": [
       "    type  fixed acidity  volatile acidity  citric acid  residual sugar  \\\n",
       "0  white       0.333333          0.293333     0.465753        0.052910   \n",
       "1  white       0.583333          0.266667     0.547945        0.333333   \n",
       "2  white       0.458333          0.200000     0.438356        0.417989   \n",
       "3  white       0.458333          0.200000     0.438356        0.417989   \n",
       "4  white       0.583333          0.266667     0.547945        0.333333   \n",
       "\n",
       "   chlorides  free sulfur dioxide  total sulfur dioxide   density        pH  \\\n",
       "0   0.279720             0.158537              0.463235  0.444803  0.597938   \n",
       "1   0.286713             0.353659              0.334559  0.515817  0.556701   \n",
       "2   0.342657             0.560976              0.661765  0.548096  0.484536   \n",
       "3   0.342657             0.560976              0.661765  0.548096  0.484536   \n",
       "4   0.286713             0.353659              0.334559  0.515817  0.556701   \n",
       "\n",
       "   sulphates   alcohol  quality  quality_rate  \n",
       "0   0.375000  0.247934        6             1  \n",
       "1   0.305556  0.347107        6             1  \n",
       "2   0.250000  0.314050        6             1  \n",
       "3   0.250000  0.314050        6             1  \n",
       "4   0.305556  0.347107        6             1  "
      ]
     },
     "execution_count": 9,
     "metadata": {},
     "output_type": "execute_result"
    }
   ],
   "source": [
    "columns_to_normalize = df.drop(['quality', 'type', 'quality_rate'], axis = 1)\n",
    "\n",
    "min_max_scaler = preprocessing.MinMaxScaler()\n",
    "\n",
    "for col in columns_to_normalize:\n",
    "   df[col] = min_max_scaler.fit_transform(df[col].values.reshape(-1, 1) )\n",
    "\n",
    "\n",
    "df.head()"
   ]
  },
  {
   "cell_type": "markdown",
   "metadata": {},
   "source": [
    "### Построение модели"
   ]
  },
  {
   "cell_type": "code",
   "execution_count": 10,
   "metadata": {},
   "outputs": [],
   "source": [
    "x = df.iloc[:, 1:12]\n",
    "y = df.quality_rate.values"
   ]
  },
  {
   "cell_type": "code",
   "execution_count": 14,
   "metadata": {},
   "outputs": [],
   "source": [
    "x_train, x_test, y_train, y_test = train_test_split(x, y, test_size=0.2, random_state=42)"
   ]
  },
  {
   "cell_type": "markdown",
   "metadata": {},
   "source": [
    "#### Классификация с LogReg"
   ]
  },
  {
   "cell_type": "code",
   "execution_count": 28,
   "metadata": {},
   "outputs": [],
   "source": [
    "LogReg = Pipeline([\n",
    "        ('classification', LogisticRegression())\n",
    "])\n",
    "parameters_LogReg = [{\n",
    "        'classification__C': np.linspace(0.001, 1, 10, dtype=float),\n",
    "        'classification__penalty': ('l2', 'l1')  \n",
    "}]\n",
    "\n",
    "scores=['accuracy', 'f1']\n",
    "\n",
    "grid_LogReg = GridSearchCV(\n",
    "                LogReg, \n",
    "                param_grid=parameters_LogReg, \n",
    "                cv=3,\n",
    "                scoring=scores,\n",
    "                refit=scores[0],\n",
    "                n_jobs=-1, \n",
    "                verbose=1\n",
    ")"
   ]
  },
  {
   "cell_type": "code",
   "execution_count": 29,
   "metadata": {},
   "outputs": [
    {
     "name": "stdout",
     "output_type": "stream",
     "text": [
      "Fitting 3 folds for each of 20 candidates, totalling 60 fits\n"
     ]
    },
    {
     "data": {
      "text/plain": [
       "0.7411640211640211"
      ]
     },
     "execution_count": 29,
     "metadata": {},
     "output_type": "execute_result"
    }
   ],
   "source": [
    "grid_LogReg.fit(x_train, y_train)\n",
    "grid_LogReg_sc = grid_LogReg.best_score_\n",
    "grid_LogReg_sc"
   ]
  },
  {
   "cell_type": "code",
   "execution_count": 30,
   "metadata": {
    "scrolled": true
   },
   "outputs": [
    {
     "name": "stdout",
     "output_type": "stream",
     "text": [
      "              precision    recall  f1-score   support\n",
      "\n",
      "           0       0.65      0.56      0.60       398\n",
      "           1       0.79      0.85      0.82       784\n",
      "\n",
      "    accuracy                           0.75      1182\n",
      "   macro avg       0.72      0.70      0.71      1182\n",
      "weighted avg       0.74      0.75      0.74      1182\n",
      "\n"
     ]
    }
   ],
   "source": [
    "y_pred1 = grid_LogReg.predict(x_test)\n",
    "print(metrics.classification_report(y_test, y_pred1))"
   ]
  },
  {
   "cell_type": "markdown",
   "metadata": {},
   "source": [
    "#### Реализация модели классификации с использованием RandomForestClassifier"
   ]
  },
  {
   "cell_type": "code",
   "execution_count": 23,
   "metadata": {},
   "outputs": [],
   "source": [
    "RFC = Pipeline([\n",
    "       ('classification', RandomForestClassifier())\n",
    "])\n",
    "parameters_RFC = [{\n",
    "        'classification__max_features': (0.5, 0.8, 1)  \n",
    "}]\n",
    "\n",
    "scores=['accuracy', 'f1']\n",
    "\n",
    "grid_RFC = GridSearchCV(\n",
    "                RFC, \n",
    "                param_grid = parameters_RFC,\n",
    "                cv=3,\n",
    "                scoring=scores,\n",
    "                refit=scores[0],\n",
    "                n_jobs=-1, \n",
    "                verbose=1\n",
    ")"
   ]
  },
  {
   "cell_type": "code",
   "execution_count": 24,
   "metadata": {},
   "outputs": [
    {
     "name": "stdout",
     "output_type": "stream",
     "text": [
      "Fitting 3 folds for each of 3 candidates, totalling 9 fits\n"
     ]
    },
    {
     "data": {
      "text/plain": [
       "0.8154497354497354"
      ]
     },
     "execution_count": 24,
     "metadata": {},
     "output_type": "execute_result"
    }
   ],
   "source": [
    "grid_RFC.fit(x_train, y_train)\n",
    "grid_RFC_sc = grid_RFC.best_score_\n",
    "grid_RFC_sc"
   ]
  },
  {
   "cell_type": "code",
   "execution_count": 25,
   "metadata": {
    "scrolled": true
   },
   "outputs": [
    {
     "name": "stdout",
     "output_type": "stream",
     "text": [
      "              precision    recall  f1-score   support\n",
      "\n",
      "           0       0.77      0.74      0.75       398\n",
      "           1       0.87      0.89      0.88       784\n",
      "\n",
      "    accuracy                           0.84      1182\n",
      "   macro avg       0.82      0.81      0.82      1182\n",
      "weighted avg       0.84      0.84      0.84      1182\n",
      "\n"
     ]
    }
   ],
   "source": [
    "y_pred = grid_RFC.predict(x_test)\n",
    "print(metrics.classification_report(y_test, y_pred))"
   ]
  },
  {
   "cell_type": "markdown",
   "metadata": {},
   "source": [
    "### Оценка моделей"
   ]
  },
  {
   "cell_type": "code",
   "execution_count": 33,
   "metadata": {},
   "outputs": [],
   "source": [
    "from sklearn.metrics import accuracy_score, make_scorer, precision_score, recall_score, f1_score"
   ]
  },
  {
   "cell_type": "code",
   "execution_count": 39,
   "metadata": {},
   "outputs": [
    {
     "name": "stdout",
     "output_type": "stream",
     "text": [
      "Model: GridSearchCV(cv=3,\n",
      "             estimator=Pipeline(steps=[('classification',\n",
      "                                        RandomForestClassifier())]),\n",
      "             n_jobs=-1,\n",
      "             param_grid=[{'classification__max_features': (0.5, 0.8, 1)}],\n",
      "             refit='accuracy', scoring=['accuracy', 'f1'], verbose=1)\n",
      "Accuracy: 0.84\n",
      "Precision: 0.87\n",
      "Recall: 0.89\n",
      "f1_score: 0.88\n",
      "\n",
      "Model: GridSearchCV(cv=3,\n",
      "             estimator=Pipeline(steps=[('classification',\n",
      "                                        LogisticRegression())]),\n",
      "             n_jobs=-1,\n",
      "             param_grid=[{'classification__C': array([0.001, 0.112, 0.223, 0.334, 0.445, 0.556, 0.667, 0.778, 0.889,\n",
      "       1.   ]),\n",
      "                          'classification__penalty': ('l2', 'l1')}],\n",
      "             refit='accuracy', scoring=['accuracy', 'f1'], verbose=1)\n",
      "Accuracy: 0.75\n",
      "Precision: 0.79\n",
      "Recall: 0.85\n",
      "f1_score: 0.82\n",
      "\n"
     ]
    }
   ],
   "source": [
    "model_list = [grid_RFC, grid_LogReg]\n",
    "\n",
    "for model in model_list:\n",
    "    y_pred = model.best_estimator_.predict(x_test)\n",
    "    print(f\"Model: {model}\")\n",
    "    print('Accuracy: %.2f' % accuracy_score(y_true=y_test, y_pred=y_pred))\n",
    "    print('Precision: %.2f' % precision_score(y_true=y_test, y_pred=y_pred))\n",
    "    print('Recall: %.2f' % recall_score(y_true=y_test, y_pred=y_pred))\n",
    "    print('f1_score: %.2f' % f1_score(y_true=y_test, y_pred=y_pred))\n",
    "    print()"
   ]
  }
 ],
 "metadata": {
  "kernelspec": {
   "display_name": "Python 3 (ipykernel)",
   "language": "python",
   "name": "python3"
  },
  "language_info": {
   "codemirror_mode": {
    "name": "ipython",
    "version": 3
   },
   "file_extension": ".py",
   "mimetype": "text/x-python",
   "name": "python",
   "nbconvert_exporter": "python",
   "pygments_lexer": "ipython3",
   "version": "3.9.13"
  }
 },
 "nbformat": 4,
 "nbformat_minor": 2
}
